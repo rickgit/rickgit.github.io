{
 "cells": [
  {
   "cell_type": "code",
   "execution_count": 2,
   "metadata": {},
   "outputs": [
    {
     "name": "stdout",
     "output_type": "stream",
     "text": [
      "Hello, World! C++\n"
     ]
    }
   ],
   "source": [
    "#include <iostream>\n",
    "using namespace std;\n",
    " \n",
    "     string radius;\n",
    "     cout << \"Hello, World!\";\n",
    "   \n",
    "    cin >> radius;\n",
    "     return 0;"
   ]
  },
  {
   "cell_type": "code",
   "execution_count": 1,
   "metadata": {},
   "outputs": [
    {
     "name": "stdout",
     "output_type": "stream",
     "text": [
      "2\n"
     ]
    }
   ],
   "source": [
    "//## 基本数据类型\n",
    "/* \n",
    "double <---+ float\n",
    "   ^\n",
    "   |\n",
    "   +\n",
    " long\n",
    "   ^\n",
    "   +\n",
    " unsigned\n",
    "   ^\n",
    "   |\n",
    "   +\n",
    "  int  <---+char,short\n",
    "\n",
    "*/\n",
    "(int) 3.5;\n",
    "int(3.5);\n",
    "(long) -3.5;//\n",
    "(float) 2;\n",
    "\n",
    "\n"
   ]
  },
  {
   "cell_type": "code",
   "execution_count": 1,
   "metadata": {},
   "outputs": [
    {
     "name": "stdout",
     "output_type": "stream",
     "text": [
      "size of enum 4\n",
      "aaaabbbba\n",
      "2\n",
      "100\n",
      "23.4\n"
     ]
    },
    {
     "name": "stderr",
     "output_type": "stream",
     "text": [
      "\u001b[1minput_line_23:4:1: \u001b[0m\u001b[0;1;35mwarning: \u001b[0m\u001b[1mtreating Unicode character as whitespace [-Wunicode-whitespace]\u001b[0m\n",
      "　　struct Child {\n",
      "\u001b[0;1;32m^~\n",
      "\u001b[0m\u001b[1minput_line_23:4:4: \u001b[0m\u001b[0;1;35mwarning: \u001b[0m\u001b[1mtreating Unicode character as whitespace [-Wunicode-whitespace]\u001b[0m\n",
      "　　struct Child {\n",
      "\u001b[0;1;32m  ^~\n",
      "\u001b[0m\u001b[1minput_line_23:5:1: \u001b[0m\u001b[0;1;35mwarning: \u001b[0m\u001b[1mtreating Unicode character as whitespace [-Wunicode-whitespace]\u001b[0m\n",
      "　　　double height;\n",
      "\u001b[0;1;32m^~\n",
      "\u001b[0m\u001b[1minput_line_23:5:4: \u001b[0m\u001b[0;1;35mwarning: \u001b[0m\u001b[1mtreating Unicode character as whitespace [-Wunicode-whitespace]\u001b[0m\n",
      "　　　double height;\n",
      "\u001b[0;1;32m  ^~\n",
      "\u001b[0m\u001b[1minput_line_23:5:7: \u001b[0m\u001b[0;1;35mwarning: \u001b[0m\u001b[1mtreating Unicode character as whitespace [-Wunicode-whitespace]\u001b[0m\n",
      "　　　double height;\n",
      "\u001b[0;1;32m    ^~\n",
      "\u001b[0m\u001b[1minput_line_23:6:1: \u001b[0m\u001b[0;1;35mwarning: \u001b[0m\u001b[1mtreating Unicode character as whitespace [-Wunicode-whitespace]\u001b[0m\n",
      "　　　char gender;\n",
      "\u001b[0;1;32m^~\n",
      "\u001b[0m\u001b[1minput_line_23:6:4: \u001b[0m\u001b[0;1;35mwarning: \u001b[0m\u001b[1mtreating Unicode character as whitespace [-Wunicode-whitespace]\u001b[0m\n",
      "　　　char gender;\n",
      "\u001b[0;1;32m  ^~\n",
      "\u001b[0m\u001b[1minput_line_23:6:7: \u001b[0m\u001b[0;1;35mwarning: \u001b[0m\u001b[1mtreating Unicode character as whitespace [-Wunicode-whitespace]\u001b[0m\n",
      "　　　char gender;\n",
      "\u001b[0;1;32m    ^~\n",
      "\u001b[0m\u001b[1minput_line_23:7:1: \u001b[0m\u001b[0;1;35mwarning: \u001b[0m\u001b[1mtreating Unicode character as whitespace [-Wunicode-whitespace]\u001b[0m\n",
      "　　};\n",
      "\u001b[0;1;32m^~\n",
      "\u001b[0m\u001b[1minput_line_23:7:4: \u001b[0m\u001b[0;1;35mwarning: \u001b[0m\u001b[1mtreating Unicode character as whitespace [-Wunicode-whitespace]\u001b[0m\n",
      "　　};\n",
      "\u001b[0;1;32m  ^~\n",
      "\u001b[0m"
     ]
    },
    {
     "name": "stdout",
     "output_type": "stream",
     "text": [
      "0\n"
     ]
    }
   ],
   "source": [
    "//## 符合类型\n",
    "//### 枚举\n",
    "/*\n",
    "C里面常量就和普通变量没什么两样，都是在栈里面，而且是可寻址的（也就是除了不能更改以外和普通变量没有区别）\n",
    "而C++里面的常量在编译的时候被放入符号表里面，如果没有显式要求，其将是不可寻址的\n",
    "*/\n",
    "enum EnumTest{\n",
    "    a =1,b = 5\n",
    "};\n",
    "#include <iostream>\n",
    "using namespace std;\n",
    "cout << \"size of enum \"<< sizeof(enum EnumTest) << endl;\n",
    "//### 数组\n",
    "int intArr[4]={1,3,4,5};\n",
    "char charArr[10]=\"aaaabbbba\";\n",
    "#include <string>\n",
    "std::string char2Str(&charArr[0],&charArr[strlen(charArr)]);\n",
    "#include <iostream>\n",
    "std::cout<<char2Str<<std::endl\n",
    "\n",
    "//### 字符串（类）\n",
    "#include <string>\n",
    "std::string str=\"2\";\n",
    "int i = std::stoi(str);\n",
    "#include <iostream>\n",
    "std::cout<<i<<std::endl;\n",
    "\n",
    "//### 指针与引用\n",
    "int n = 100;\n",
    "int *p = &n;\n",
    "#include <iostream>\n",
    "std::cout<<*p<<std::endl;\n",
    "\n",
    "double num1 = 3.14;\n",
    "double &num2 = num1; // num1是num2的引用\n",
    "num1=23.4;\n",
    "#include <iostream>\n",
    "std::cout<<num2<<std::endl;\n",
    "\n",
    "\n",
    "typedef int * intptr;\n",
    "//定义intptr为一个指向整型的指针类型。变量定义语句：\n",
    "intptr myIntType;\n",
    "#include <iostream>\n",
    "std::cout<<myIntType<<std::endl;\n",
    "\n",
    "//### 结构体\n",
    "struct Child {\n",
    "　　　double height;\n",
    "　　　char gender;\n",
    "};\n",
    "\n",
    "\n",
    "//### 类与对象\n",
    "class Set\n",
    "{\n",
    "    public:\n",
    "    Set (const int size);\n",
    "    ~Set(void) {delete elems;} // 析构函数\n",
    "    //...\n",
    "    private:\n",
    "    int *elems; // 集合元素\n",
    "    int maxCard; // 集合最大尺寸\n",
    "    int card; // 集合元素个数\n",
    "};\n",
    "//#### 作用域：全局类，嵌套类，局部类\n",
    "//#### 继承\n",
    "/*\n",
    "访问权限     示例                    注释\n",
    "public      class B: public A{…}    A中公有成员对B也是公有的，A中保护成员对B也是保护的，并可被B访问，而A中私有成员不能被B访问\n",
    "private     class B: private A{…}   A中公有成员和保护成员可被B访问，但它们是私有的，A中私有成员不能被B访问\n",
    "protected   class B: protected A{…} A中公有成员和保护成员可被B访问，但它们是保护的，A中私有成员不能被B访问\n",
    "*/\n",
    "//#### 虚函数，多态\n",
    "\n"
   ]
  },
  {
   "cell_type": "code",
   "execution_count": 1,
   "metadata": {},
   "outputs": [
    {
     "name": "stdout",
     "output_type": "stream",
     "text": [
      "2\n",
      "1"
     ]
    }
   ],
   "source": [
    "//## function\n",
    " \n",
    "int setValue(int value)\n",
    "{\n",
    "    return ++value;\n",
    "}\n",
    "\n",
    "#include <iostream>\n",
    "int value=1;\n",
    "std::cout<<setValue(value);\n",
    "std::cout<<\"\\n\";\n",
    "std::cout<<value;"
   ]
  },
  {
   "cell_type": "code",
   "execution_count": 2,
   "metadata": {},
   "outputs": [
    {
     "name": "stdout",
     "output_type": "stream",
     "text": [
      "2\n",
      "2"
     ]
    }
   ],
   "source": [
    "int setAddr(int &value)\n",
    "{\n",
    "    value++;\n",
    "    return value;\n",
    "}\n",
    "#include <iostream>\n",
    "int addr=1;\n",
    "std::cout<<setAddr(addr);\n",
    "std::cout<<\"\\n\";\n",
    "std::cout<<addr;\n"
   ]
  },
  {
   "cell_type": "code",
   "execution_count": 1,
   "metadata": {},
   "outputs": [
    {
     "name": "stderr",
     "output_type": "stream",
     "text": [
      "\u001b[1minput_line_8:3:1: \u001b[0m\u001b[0;1;35mwarning: \u001b[0m\u001b[1mtreating Unicode character as whitespace [-Wunicode-whitespace]\u001b[0m\n",
      "　printf(\"Integer: %d\\n\", val);\n",
      "\u001b[0;1;32m^~\n",
      "\u001b[0m\u001b[1minput_line_8:7:1: \u001b[0m\u001b[0;1;31merror: \u001b[0m\u001b[1mfunction definition is not allowed here\u001b[0m\n",
      "{\n",
      "\u001b[0;1;32m^\n",
      "\u001b[0m\u001b[1minput_line_8:8:1: \u001b[0m\u001b[0;1;35mwarning: \u001b[0m\u001b[1mtreating Unicode character as whitespace [-Wunicode-whitespace]\u001b[0m\n",
      "　printf(\"Double: %lf\\n\", val);\n",
      "\u001b[0;1;32m^~\n",
      "\u001b[0m\u001b[1minput_line_8:11:1: \u001b[0m\u001b[0;1;31merror: \u001b[0m\u001b[1mfunction definition is not allowed here\u001b[0m\n",
      "{\n",
      "\u001b[0;1;32m^\n",
      "\u001b[0m\u001b[1minput_line_8:12:1: \u001b[0m\u001b[0;1;35mwarning: \u001b[0m\u001b[1mtreating Unicode character as whitespace [-Wunicode-whitespace]\u001b[0m\n",
      "　show(12);\n",
      "\u001b[0;1;32m^~\n",
      "\u001b[0m\u001b[1minput_line_8:13:1: \u001b[0m\u001b[0;1;35mwarning: \u001b[0m\u001b[1mtreating Unicode character as whitespace [-Wunicode-whitespace]\u001b[0m\n",
      "　show(3.1415);\n",
      "\u001b[0;1;32m^~\n",
      "\u001b[0m\u001b[1minput_line_8:14:1: \u001b[0m\u001b[0;1;35mwarning: \u001b[0m\u001b[1mtreating Unicode character as whitespace [-Wunicode-whitespace]\u001b[0m\n",
      "　return (0);\n",
      "\u001b[0;1;32m^~\n",
      "\u001b[0m"
     ]
    },
    {
     "ename": "Interpreter Error",
     "evalue": "",
     "output_type": "error",
     "traceback": [
      "Interpreter Error: "
     ]
    }
   ],
   "source": [
    "#include <stdio.h>\n",
    "void show(int val)\n",
    "{\n",
    "　printf(\"Integer: %d\\n\", val);\n",
    "}\n",
    "void show(double val)\n",
    "{\n",
    "　printf(\"Double: %lf\\n\", val);\n",
    "}\n",
    "int main()\n",
    "{\n",
    "　show(12);\n",
    "　show(3.1415);\n",
    "\n",
    "　return (0);\n",
    "}\n",
    " "
   ]
  },
  {
   "cell_type": "code",
   "execution_count": null,
   "metadata": {},
   "outputs": [],
   "source": []
  },
  {
   "cell_type": "code",
   "execution_count": null,
   "metadata": {},
   "outputs": [],
   "source": []
  },
  {
   "cell_type": "code",
   "execution_count": 1,
   "metadata": {},
   "outputs": [
    {
     "name": "stdout",
     "output_type": "stream",
     "text": [
      "20"
     ]
    }
   ],
   "source": [
    "class Rectangle {  \n",
    "    private:\n",
    "        double w;\n",
    "        double h;\n",
    " \n",
    "    public:\n",
    " \n",
    "        Rectangle(double w_, double h_) {\n",
    "            w = w_;\n",
    "            h = h_;\n",
    "        }\n",
    "        double area(void) {\n",
    "            return w * h;\n",
    "        }\n",
    "        double perimiter(void) {\n",
    "            return 2 * (w + h);\n",
    "        }\n",
    "};\n",
    "#include <iostream>\n",
    "Rectangle r = Rectangle(5, 4); \n",
    "std::cout<<r.area();"
   ]
  },
  {
   "cell_type": "code",
   "execution_count": 3,
   "metadata": {},
   "outputs": [
    {
     "name": "stdout",
     "output_type": "stream",
     "text": [
      "20"
     ]
    }
   ],
   "source": [
    " "
   ]
  }
 ],
 "metadata": {
  "kernelspec": {
   "display_name": "C++11",
   "language": "C++11",
   "name": "xcpp11"
  },
  "language_info": {
   "codemirror_mode": "text/x-c++src",
   "file_extension": ".cpp",
   "mimetype": "text/x-c++src",
   "name": "c++",
   "version": "11"
  }
 },
 "nbformat": 4,
 "nbformat_minor": 4
}
