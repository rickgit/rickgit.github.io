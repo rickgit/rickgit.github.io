{
 "cells": [
  {
   "cell_type": "code",
   "execution_count": 37,
   "metadata": {},
   "outputs": [
    {
     "data": {
      "text/plain": [
       "2"
      ]
     },
     "execution_count": 37,
     "metadata": {},
     "output_type": "execute_result"
    }
   ],
   "source": [
    "1+1"
   ]
  },
  {
   "cell_type": "code",
   "execution_count": 19,
   "metadata": {},
   "outputs": [
    {
     "name": "stdout",
     "output_type": "stream",
     "text": [
      "1\n"
     ]
    },
    {
     "data": {
      "text/plain": [
       "1111111110000000000000000000000"
      ]
     },
     "execution_count": 19,
     "metadata": {},
     "output_type": "execute_result"
    }
   ],
   "source": [
    "0xC0000000.toString(2)\n",
    "0x80000000.toString(2)\n",
    "0x0FFFFFFF.toString(2)\n",
    "//00001111 11111111 11111111 11111111\n",
    "1103515245.toString(2)\n",
    "//01000001 11000110 01001110 01101101\n",
    "0x7fc00000.toString(2)//NaN\n",
    "//1 11111111 0000000000000000000000"
   ]
  },
  {
   "cell_type": "code",
   "execution_count": 24,
   "metadata": {},
   "outputs": [
    {
     "name": "stdout",
     "output_type": "stream",
     "text": [
      "Hello world\n"
     ]
    }
   ],
   "source": [
    "println(\"Hello world\")"
   ]
  },
  {
   "cell_type": "code",
   "execution_count": 3,
   "metadata": {},
   "outputs": [
    {
     "name": "stdout",
     "output_type": "stream",
     "text": [
      "2\n"
     ]
    }
   ],
   "source": [
    "println(\"你好\".length)"
   ]
  },
  {
   "cell_type": "code",
   "execution_count": 50,
   "metadata": {},
   "outputs": [
    {
     "name": "stdout",
     "output_type": "stream",
     "text": [
      "11100100_10111000_10100101_"
     ]
    }
   ],
   "source": [
    "//1110XXXX 10XXXXXX 10XXXXXX    0100 111000 100101\n",
    "\"好\".toByteArray(Charsets.UTF_8).iterator().forEach {print(it.toUByte().toString(2)+\"_\")} "
   ]
  },
  {
   "cell_type": "code",
   "execution_count": 51,
   "metadata": {},
   "outputs": [
    {
     "name": "stdout",
     "output_type": "stream",
     "text": [
      "e4_b8_a5_"
     ]
    }
   ],
   "source": [
    "\"好\".toByteArray(Charsets.UTF_8).iterator().forEach {print(it.toUByte().toString(16)+\"_\")} "
   ]
  },
  {
   "cell_type": "code",
   "execution_count": 57,
   "metadata": {
    "scrolled": true
   },
   "outputs": [
    {
     "name": "stdout",
     "output_type": "stream",
     "text": [
      "111111_"
     ]
    }
   ],
   "source": [
    "\"好\".toByteArray(Charsets.US_ASCII).iterator().forEach {print(it.toUByte().toString(2)+\"_\")} //US_ASCII ISO_8859_1"
   ]
  },
  {
   "cell_type": "code",
   "execution_count": 65,
   "metadata": {},
   "outputs": [
    {
     "name": "stdout",
     "output_type": "stream",
     "text": [
      "1011001_1111101_"
     ]
    }
   ],
   "source": [
    "//\n",
    "\"好\".toByteArray(Charsets.UTF_16BE).iterator().forEach {print(it.toUByte().toString(2)+\"_\")} "
   ]
  },
  {
   "cell_type": "code",
   "execution_count": 66,
   "metadata": {},
   "outputs": [
    {
     "name": "stdout",
     "output_type": "stream",
     "text": [
      "1111101_1011001_"
     ]
    }
   ],
   "source": [
    "\"好\".toByteArray(Charsets.UTF_16LE).iterator().forEach {print(it.toUByte().toString(2)+\"_\")} "
   ]
  },
  {
   "cell_type": "code",
   "execution_count": 1,
   "metadata": {},
   "outputs": [
    {
     "name": "stdout",
     "output_type": "stream",
     "text": [
      "11111110_11111111_1011001_1111101_"
     ]
    }
   ],
   "source": [
    "\"好\".toByteArray(Charsets.UTF_16).iterator().forEach {print(it.toUByte().toString(2)+\"_\")} "
   ]
  },
  {
   "cell_type": "code",
   "execution_count": 24,
   "metadata": {},
   "outputs": [
    {
     "name": "stdout",
     "output_type": "stream",
     "text": [
      "1111111011111111\n",
      "1101000_\n",
      "1101000_\n",
      "11111110_11111111_0_1101000_\n",
      "      0_1101000_\n",
      "      1101000_0_\n",
      "4e25\n",
      "e4b8a5"
     ]
    }
   ],
   "source": [
    "//JVM运行时字符串是char[],用UTF_16带fe ff\n",
    "println(0xFEFF.toString(2))\n",
    "var hello=\"h\"\n",
    "var scale=2\n",
    "//1110XXXX 10XXXXXX 10XXXXXX    0100 111000 100101\n",
    "hello.toByteArray(Charsets.UTF_8).iterator()\n",
    "    .forEach {print(it.toUByte().toString(scale)+\"_\")}//UTF8编码长度\n",
    "println()\n",
    "hello.toByteArray().iterator()\n",
    "    .forEach {print(it.toUByte().toString(scale)+\"_\")}//打印出UTF8，\n",
    "println();   \n",
    "//110110yyyyyyyyyy 110111xxxxxxxxxx\n",
    "hello.toByteArray(Charsets.UTF_16).iterator()\n",
    "    .forEach {print(it.toUByte().toString(scale)+\"_\")}//UTF_16带fe ff\n",
    "println()    ;print(\"      \");\n",
    "hello.toByteArray(Charsets.UTF_16BE).iterator()\n",
    "    .forEach {print(it.toUByte().toString(scale)+\"_\")}//UTF_16BE 是不带fe ff 地址打印出来和书写顺序一样\n",
    "println()    ;print(\"      \");\n",
    "hello.toByteArray(Charsets.UTF_16LE).iterator()\n",
    "    .forEach {print(it.toUByte().toString(scale)+\"_\")}//UTF_16BE 是不带ff fe 地址打印出来和地址方向一样\n",
    "println() \n",
    "println(\"严\"[0].toLong().toString(16))//打印 Unicode code point\n",
    "\"严\".toByteArray(Charsets.UTF_8).forEach{print(it.toUByte().toString(16))}//打印UNICODE存储方式 UTF8码\n",
    " "
   ]
  },
  {
   "cell_type": "code",
   "execution_count": 11,
   "metadata": {},
   "outputs": [
    {
     "name": "stdout",
     "output_type": "stream",
     "text": [
      "ef_bb_bf_7b_6e_61_6d_65_3a_22_e5_a5_bd_\n",
      "         7b_6e_61_6d_65_3a_22_e5_a5_bd_22_7d_"
     ]
    }
   ],
   "source": [
    "import java.io.*; //WINDOWS保留BOM，UNIX不关注BOM。其中LE ：FF FE ，BE：FE FF\n",
    "File(\"charset-UTF8-BOM.txt\").readBytes().take(13)//带有BOM(Byte_order_mark)ef_bb_bf的UTF8\n",
    " .iterator().forEach{print(it.toUByte().toString(16)+\"_\")}\n",
    " println()\n",
    " print(\"         \")\n",
    "File(\"charset-utf8.txt\").readBytes().take(13)//charset-ascii.txt charset-utf8.txt\n",
    " .iterator().forEach{print(it.toUByte().toString(16)+\"_\")} "
   ]
  },
  {
   "cell_type": "code",
   "execution_count": null,
   "metadata": {},
   "outputs": [],
   "source": [
    "1+1"
   ]
  },
  {
   "cell_type": "code",
   "execution_count": 35,
   "metadata": {},
   "outputs": [],
   "source": [
    "//包含http 请求头和内容\n",
    "import java.net.*;\n",
    "//199.232.68.133 raw.githubusercontent.com\n",
    "// URL(\"https://raw.githubusercontent.com/rickgit/rickgit.github.io/master/javacode/Cat.class\").readBytes().take(13)\n",
    "//    .iterator().forEach{print(it.toUByte().toString(16)+\"_\")}"
   ]
  },
  {
   "cell_type": "code",
   "execution_count": 121,
   "metadata": {},
   "outputs": [],
   "source": [
    "\n",
    "import java.net.*;\n",
    "//URL(\"https://raw.githubusercontent.com/rickgit/rickgit.github.io/master/javacode/Cat.java\").readText().toString()"
   ]
  },
  {
   "cell_type": "code",
   "execution_count": 104,
   "metadata": {},
   "outputs": [
    {
     "name": "stdout",
     "output_type": "stream",
     "text": [
      "ca_fe_ba_be_0_0_0_33_0_19_a_0_5_"
     ]
    }
   ],
   "source": [
    "import java.io.*; \n",
    "val file = File(\"Cat.class\")\n",
    "//file.readLines().take(13)\n",
    "file.readBytes().take(13)\n",
    " .iterator().forEach{print(it.toUByte().toString(16)+\"_\")}"
   ]
  },
  {
   "cell_type": "code",
   "execution_count": null,
   "metadata": {},
   "outputs": [],
   "source": [
    "import java.io.*; \n",
    "val file = File(\"Cat.java\")\n",
    "//file.readLines().take(13)\n",
    "file.readBytes().take(13)\n",
    " .iterator().forEach{print(it.toUByte().toString(16)+\"_\")}"
   ]
  },
  {
   "cell_type": "code",
   "execution_count": 95,
   "metadata": {},
   "outputs": [
    {
     "name": "stdout",
     "output_type": "stream",
     "text": [
      "7b_a_20_22_63_65_6c_6c_73_22_3a_20_5b_"
     ]
    }
   ],
   "source": [
    "import java.io.*; \n",
    "val file = File(\"kotlin.ipynb\")\n",
    "//file.readLines().take(13)\n",
    "file.readBytes().take(13)\n",
    " .iterator().forEach{print(it.toUByte().toString(16)+\"_\")}"
   ]
  },
  {
   "cell_type": "code",
   "execution_count": 59,
   "metadata": {},
   "outputs": [
    {
     "name": "stdout",
     "output_type": "stream",
     "text": [
      "User(name=Tom, age=9)\n"
     ]
    },
    {
     "data": {
      "text/plain": [
       "1"
      ]
     },
     "execution_count": 59,
     "metadata": {},
     "output_type": "execute_result"
    }
   ],
   "source": [
    "//类\n",
    "data class User(var name:String,var age:Int)\n",
    "var user1=User(\"Tom\",9)\n",
    "println(user1.toString())\n",
    "System.identityHashCode(user1)==user1.hashCode()\n",
    "System.identityHashCode(\"你\")==\"你\".hashCode()\n",
    "\"你\"==\"你\"\n",
    "1.hashCode()"
   ]
  },
  {
   "cell_type": "code",
   "execution_count": 34,
   "metadata": {},
   "outputs": [
    {
     "name": "stdout",
     "output_type": "stream",
     "text": [
      "User(name=Cat, age=9)\n"
     ]
    }
   ],
   "source": [
    "user1.name=\"Cat\"\n",
    "println(user1.toString())"
   ]
  },
  {
   "cell_type": "code",
   "execution_count": 48,
   "metadata": {},
   "outputs": [
    {
     "name": "stdout",
     "output_type": "stream",
     "text": [
      "Line_602_jupyter$Dog@4a8d230e\n"
     ]
    }
   ],
   "source": [
    "class Dog(var name:String,var age:Int)\n",
    "var dog1=Dog(\"Tom\",9)\n",
    "println(dog1.toString())"
   ]
  },
  {
   "cell_type": "code",
   "execution_count": null,
   "metadata": {},
   "outputs": [],
   "source": [
    "# /**\n",
    "import kotlin.concurrent\n",
    "thread(start = true) {\n",
    "  println(\"running from thread(): ${Thread.currentThread()}\")\n",
    "}\n",
    "**/\n",
    "var name=dog1\n",
    " Thread(){ //Override\n",
    "   println(\"thread 1  \"+dog1.hashCode().toString(16))\n",
    "}.start()\n",
    " \n",
    "Thread({ //Runnable\n",
    "         synchronized(this){\n",
    "        println(\"thread 2  \"+dog1.hashCode().toString(16))\n",
    "        }\n",
    "    \n",
    "}).start()\n",
    "\n"
   ]
  },
  {
   "cell_type": "code",
   "execution_count": 39,
   "metadata": {},
   "outputs": [],
   "source": [
    "import kotlinx.coroutines.*\n",
    "\n",
    "fun main() {\n",
    "    GlobalScope.launch { // launch a new coroutine in background and continue\n",
    "        delay(1000L) // non-blocking delay for 1 second (default time unit is ms)\n",
    "        println(\"World!\") // print after delay\n",
    "    }\n",
    "    println(\"Hello,\") // main thread continues while coroutine is delayed\n",
    "    Thread.sleep(2000L) // block main thread for 2 seconds to keep JVM alive\n",
    "}"
   ]
  },
  {
   "cell_type": "code",
   "execution_count": 32,
   "metadata": {},
   "outputs": [
    {
     "name": "stdout",
     "output_type": "stream",
     "text": [
      "Line_473_jupyter@3fc8e356\n",
      "Line_473_jupyter@3fc8e356\n"
     ]
    }
   ],
   "source": [
    "  val sum ={ println(this); }\n",
    "  Thread(sum).start()\n",
    "  Thread(sum).start()"
   ]
  },
  {
   "cell_type": "code",
   "execution_count": 3,
   "metadata": {},
   "outputs": [],
   "source": [
    "class FinalClass\n",
    "//open class ChildExtendsFinalClass :FinalClass() //permit\n",
    "open class NoFinalClass\n",
    "open class ChildClass:NoFinalClass()\n",
    "\n",
    "\n",
    "sealed class SealedClass //拓展枚举常量只存在一个实例,https://kotlinlang.org/docs/reference/sealed-classes.html\n",
    " \n",
    "\n",
    "open class Activity\n",
    "inline fun <reified T : Activity> Activity.startActivity() {//reified 拓展泛型时不能够直接地使用类型\n",
    "   //startActivity(Intent(this, T::class.java))\n",
    "}"
   ]
  },
  {
   "cell_type": "code",
   "execution_count": null,
   "metadata": {},
   "outputs": [],
   "source": []
  },
  {
   "cell_type": "code",
   "execution_count": null,
   "metadata": {},
   "outputs": [],
   "source": []
  },
  {
   "cell_type": "code",
   "execution_count": null,
   "metadata": {},
   "outputs": [],
   "source": []
  },
  {
   "cell_type": "code",
   "execution_count": null,
   "metadata": {},
   "outputs": [],
   "source": []
  },
  {
   "cell_type": "code",
   "execution_count": null,
   "metadata": {},
   "outputs": [],
   "source": []
  },
  {
   "cell_type": "code",
   "execution_count": null,
   "metadata": {},
   "outputs": [],
   "source": []
  },
  {
   "cell_type": "code",
   "execution_count": null,
   "metadata": {},
   "outputs": [],
   "source": []
  },
  {
   "cell_type": "code",
   "execution_count": null,
   "metadata": {},
   "outputs": [],
   "source": []
  },
  {
   "cell_type": "code",
   "execution_count": null,
   "metadata": {},
   "outputs": [],
   "source": []
  },
  {
   "cell_type": "code",
   "execution_count": null,
   "metadata": {},
   "outputs": [],
   "source": []
  },
  {
   "cell_type": "code",
   "execution_count": null,
   "metadata": {},
   "outputs": [],
   "source": []
  },
  {
   "cell_type": "code",
   "execution_count": null,
   "metadata": {},
   "outputs": [],
   "source": []
  },
  {
   "cell_type": "code",
   "execution_count": null,
   "metadata": {},
   "outputs": [],
   "source": []
  },
  {
   "cell_type": "code",
   "execution_count": null,
   "metadata": {},
   "outputs": [],
   "source": []
  },
  {
   "cell_type": "code",
   "execution_count": null,
   "metadata": {},
   "outputs": [],
   "source": []
  },
  {
   "cell_type": "code",
   "execution_count": null,
   "metadata": {},
   "outputs": [],
   "source": []
  },
  {
   "cell_type": "code",
   "execution_count": null,
   "metadata": {},
   "outputs": [],
   "source": []
  },
  {
   "cell_type": "code",
   "execution_count": null,
   "metadata": {},
   "outputs": [],
   "source": []
  },
  {
   "cell_type": "code",
   "execution_count": null,
   "metadata": {},
   "outputs": [],
   "source": []
  }
 ],
 "metadata": {
  "kernelspec": {
   "display_name": "Kotlin",
   "language": "kotlin",
   "name": "kotlin"
  },
  "language_info": {
   "codemirror_mode": "text/x-kotlin",
   "file_extension": ".kt",
   "mimetype": "text/x-kotlin",
   "name": "kotlin",
   "pygments_lexer": "kotlin",
   "version": "1.4.0-dev-7568"
  }
 },
 "nbformat": 4,
 "nbformat_minor": 4
}
