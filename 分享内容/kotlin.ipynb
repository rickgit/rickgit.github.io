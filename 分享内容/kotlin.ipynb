{
 "cells": [
  {
   "cell_type": "code",
   "execution_count": 1,
   "metadata": {},
   "outputs": [
    {
     "data": {
      "text/plain": [
       "2"
      ]
     },
     "execution_count": 1,
     "metadata": {},
     "output_type": "execute_result"
    }
   ],
   "source": [
    "1+1"
   ]
  },
  {
   "cell_type": "code",
   "execution_count": 24,
   "metadata": {},
   "outputs": [
    {
     "name": "stdout",
     "output_type": "stream",
     "text": [
      "Hello world\n"
     ]
    }
   ],
   "source": [
    "println(\"Hello world\")"
   ]
  },
  {
   "cell_type": "code",
   "execution_count": 3,
   "metadata": {},
   "outputs": [
    {
     "name": "stdout",
     "output_type": "stream",
     "text": [
      "2\n"
     ]
    }
   ],
   "source": [
    "println(\"你好\".length)"
   ]
  },
  {
   "cell_type": "code",
   "execution_count": 50,
   "metadata": {},
   "outputs": [
    {
     "name": "stdout",
     "output_type": "stream",
     "text": [
      "11100100_10111000_10100101_"
     ]
    }
   ],
   "source": [
    "//1110XXXX 10XXXXXX 10XXXXXX    0100 111000 100101\n",
    "\"好\".toByteArray(Charsets.UTF_8).iterator().forEach {print(it.toUByte().toString(2)+\"_\")} "
   ]
  },
  {
   "cell_type": "code",
   "execution_count": 51,
   "metadata": {},
   "outputs": [
    {
     "name": "stdout",
     "output_type": "stream",
     "text": [
      "e4_b8_a5_"
     ]
    }
   ],
   "source": [
    "\"好\".toByteArray(Charsets.UTF_8).iterator().forEach {print(it.toUByte().toString(16)+\"_\")} "
   ]
  },
  {
   "cell_type": "code",
   "execution_count": 57,
   "metadata": {
    "scrolled": true
   },
   "outputs": [
    {
     "name": "stdout",
     "output_type": "stream",
     "text": [
      "111111_"
     ]
    }
   ],
   "source": [
    "\"好\".toByteArray(Charsets.US_ASCII).iterator().forEach {print(it.toUByte().toString(2)+\"_\")} //US_ASCII ISO_8859_1"
   ]
  },
  {
   "cell_type": "code",
   "execution_count": 65,
   "metadata": {},
   "outputs": [
    {
     "name": "stdout",
     "output_type": "stream",
     "text": [
      "1011001_1111101_"
     ]
    }
   ],
   "source": [
    "//\n",
    "\"好\".toByteArray(Charsets.UTF_16BE).iterator().forEach {print(it.toUByte().toString(2)+\"_\")} "
   ]
  },
  {
   "cell_type": "code",
   "execution_count": 66,
   "metadata": {},
   "outputs": [
    {
     "name": "stdout",
     "output_type": "stream",
     "text": [
      "1111101_1011001_"
     ]
    }
   ],
   "source": [
    "\"好\".toByteArray(Charsets.UTF_16LE).iterator().forEach {print(it.toUByte().toString(2)+\"_\")} "
   ]
  },
  {
   "cell_type": "code",
   "execution_count": 123,
   "metadata": {},
   "outputs": [
    {
     "name": "stdout",
     "output_type": "stream",
     "text": [
      "11111110_11111111_1011001_1111101_"
     ]
    }
   ],
   "source": [
    "\"好\".toByteArray(Charsets.UTF_16).iterator().forEach {print(it.toUByte().toString(2)+\"_\")} "
   ]
  },
  {
   "cell_type": "code",
   "execution_count": 11,
   "metadata": {},
   "outputs": [
    {
     "name": "stdout",
     "output_type": "stream",
     "text": [
      "ef_bb_bf_7b_6e_61_6d_65_3a_22_e5_a5_bd_\n",
      "         7b_6e_61_6d_65_3a_22_e5_a5_bd_22_7d_"
     ]
    }
   ],
   "source": [
    "import java.io.*; //WINDOWS保留BOM，UNIX不关注BOM。其中LE ：FF FE ，BE：FE FF\n",
    "File(\"charset-UTF8-BOM.txt\").readBytes().take(13)//带有BOM(Byte_order_mark)ef_bb_bf的UTF8\n",
    " .iterator().forEach{print(it.toUByte().toString(16)+\"_\")}\n",
    " println()\n",
    " print(\"         \")\n",
    "File(\"charset-utf8.txt\").readBytes().take(13)//charset-ascii.txt charset-utf8.txt\n",
    " .iterator().forEach{print(it.toUByte().toString(16)+\"_\")} "
   ]
  },
  {
   "cell_type": "code",
   "execution_count": null,
   "metadata": {},
   "outputs": [],
   "source": [
    "1+1"
   ]
  },
  {
   "cell_type": "code",
   "execution_count": 122,
   "metadata": {},
   "outputs": [],
   "source": [
    "//包含http 请求头和内容\n",
    "import java.net.*;\n",
    "// 199.232.68.133 raw.githubusercontent.com\n",
    "//URL(\"https://raw.githubusercontent.com/rickgit/rickgit.github.io/master/javacode/Cat.class\").readBytes().take(13)\n",
    " //   .iterator().forEach{print(it.toUByte().toString(16)+\"_\")}"
   ]
  },
  {
   "cell_type": "code",
   "execution_count": 121,
   "metadata": {},
   "outputs": [],
   "source": [
    "\n",
    "import java.net.*;\n",
    "//URL(\"https://raw.githubusercontent.com/rickgit/rickgit.github.io/master/javacode/Cat.java\").readText().toString()"
   ]
  },
  {
   "cell_type": "code",
   "execution_count": 104,
   "metadata": {},
   "outputs": [
    {
     "name": "stdout",
     "output_type": "stream",
     "text": [
      "ca_fe_ba_be_0_0_0_33_0_19_a_0_5_"
     ]
    }
   ],
   "source": [
    "import java.io.*; \n",
    "val file = File(\"Cat.class\")\n",
    "//file.readLines().take(13)\n",
    "file.readBytes().take(13)\n",
    " .iterator().forEach{print(it.toUByte().toString(16)+\"_\")}"
   ]
  },
  {
   "cell_type": "code",
   "execution_count": null,
   "metadata": {},
   "outputs": [],
   "source": [
    "import java.io.*; \n",
    "val file = File(\"Cat.java\")\n",
    "//file.readLines().take(13)\n",
    "file.readBytes().take(13)\n",
    " .iterator().forEach{print(it.toUByte().toString(16)+\"_\")}"
   ]
  },
  {
   "cell_type": "code",
   "execution_count": 95,
   "metadata": {},
   "outputs": [
    {
     "name": "stdout",
     "output_type": "stream",
     "text": [
      "7b_a_20_22_63_65_6c_6c_73_22_3a_20_5b_"
     ]
    }
   ],
   "source": [
    "import java.io.*; \n",
    "val file = File(\"kotlin.ipynb\")\n",
    "//file.readLines().take(13)\n",
    "file.readBytes().take(13)\n",
    " .iterator().forEach{print(it.toUByte().toString(16)+\"_\")}"
   ]
  },
  {
   "cell_type": "code",
   "execution_count": 33,
   "metadata": {},
   "outputs": [
    {
     "name": "stdout",
     "output_type": "stream",
     "text": [
      "User(name=Tom, age=9)\n"
     ]
    }
   ],
   "source": [
    "//类\n",
    "data class User(var name:String,var age:Int)\n",
    "var user1=User(\"Tom\",9)\n",
    "println(user1.toString())"
   ]
  },
  {
   "cell_type": "code",
   "execution_count": 34,
   "metadata": {},
   "outputs": [
    {
     "name": "stdout",
     "output_type": "stream",
     "text": [
      "User(name=Cat, age=9)\n"
     ]
    }
   ],
   "source": [
    "user1.name=\"Cat\"\n",
    "println(user1.toString())"
   ]
  },
  {
   "cell_type": "code",
   "execution_count": 36,
   "metadata": {},
   "outputs": [
    {
     "name": "stdout",
     "output_type": "stream",
     "text": [
      "Line_639_jupyter$Dog@7f63adcf\n"
     ]
    }
   ],
   "source": [
    "class Dog(var name:String,var age:Int)\n",
    "var dog1=Dog(\"Tom\",9)\n",
    "println(dog1.toString())"
   ]
  },
  {
   "cell_type": "code",
   "execution_count": 38,
   "metadata": {},
   "outputs": [
    {
     "name": "stdout",
     "output_type": "stream",
     "text": [
      "thread 2\n"
     ]
    }
   ],
   "source": [
    "/**\n",
    "import kotlin.concurrent\n",
    "thread(start = true) {\n",
    "  println(\"running from thread(): ${Thread.currentThread()}\")\n",
    "}\n",
    "**/\n",
    " Thread(){ //Override\n",
    "   println(\"thread 1\")\n",
    "}.start()\n",
    " \n",
    "Thread({ //Runnable\n",
    "         \n",
    "        println(\"thread 2\")\n",
    "    \n",
    "}).start()\n",
    "\n"
   ]
  },
  {
   "cell_type": "code",
   "execution_count": 39,
   "metadata": {},
   "outputs": [],
   "source": [
    "import kotlinx.coroutines.*\n",
    "\n",
    "fun main() {\n",
    "    GlobalScope.launch { // launch a new coroutine in background and continue\n",
    "        delay(1000L) // non-blocking delay for 1 second (default time unit is ms)\n",
    "        println(\"World!\") // print after delay\n",
    "    }\n",
    "    println(\"Hello,\") // main thread continues while coroutine is delayed\n",
    "    Thread.sleep(2000L) // block main thread for 2 seconds to keep JVM alive\n",
    "}"
   ]
  },
  {
   "cell_type": "code",
   "execution_count": null,
   "metadata": {},
   "outputs": [],
   "source": []
  },
  {
   "cell_type": "code",
   "execution_count": null,
   "metadata": {},
   "outputs": [],
   "source": []
  },
  {
   "cell_type": "code",
   "execution_count": null,
   "metadata": {},
   "outputs": [],
   "source": []
  },
  {
   "cell_type": "code",
   "execution_count": null,
   "metadata": {},
   "outputs": [],
   "source": []
  },
  {
   "cell_type": "code",
   "execution_count": null,
   "metadata": {},
   "outputs": [],
   "source": []
  },
  {
   "cell_type": "code",
   "execution_count": null,
   "metadata": {},
   "outputs": [],
   "source": []
  },
  {
   "cell_type": "code",
   "execution_count": null,
   "metadata": {},
   "outputs": [],
   "source": []
  },
  {
   "cell_type": "code",
   "execution_count": null,
   "metadata": {},
   "outputs": [],
   "source": []
  },
  {
   "cell_type": "code",
   "execution_count": null,
   "metadata": {},
   "outputs": [],
   "source": []
  },
  {
   "cell_type": "code",
   "execution_count": null,
   "metadata": {},
   "outputs": [],
   "source": []
  },
  {
   "cell_type": "code",
   "execution_count": null,
   "metadata": {},
   "outputs": [],
   "source": []
  },
  {
   "cell_type": "code",
   "execution_count": null,
   "metadata": {},
   "outputs": [],
   "source": []
  },
  {
   "cell_type": "code",
   "execution_count": null,
   "metadata": {},
   "outputs": [],
   "source": []
  },
  {
   "cell_type": "code",
   "execution_count": null,
   "metadata": {},
   "outputs": [],
   "source": []
  },
  {
   "cell_type": "code",
   "execution_count": null,
   "metadata": {},
   "outputs": [],
   "source": []
  },
  {
   "cell_type": "code",
   "execution_count": null,
   "metadata": {},
   "outputs": [],
   "source": []
  },
  {
   "cell_type": "code",
   "execution_count": null,
   "metadata": {},
   "outputs": [],
   "source": []
  },
  {
   "cell_type": "code",
   "execution_count": null,
   "metadata": {},
   "outputs": [],
   "source": []
  },
  {
   "cell_type": "code",
   "execution_count": null,
   "metadata": {},
   "outputs": [],
   "source": []
  }
 ],
 "metadata": {
  "kernelspec": {
   "display_name": "Kotlin",
   "language": "kotlin",
   "name": "kotlin"
  },
  "language_info": {
   "codemirror_mode": "text/x-kotlin",
   "file_extension": ".kt",
   "mimetype": "text/x-kotlin",
   "name": "kotlin",
   "pygments_lexer": "kotlin",
   "version": "1.4.0-dev-7568"
  }
 },
 "nbformat": 4,
 "nbformat_minor": 4
}
