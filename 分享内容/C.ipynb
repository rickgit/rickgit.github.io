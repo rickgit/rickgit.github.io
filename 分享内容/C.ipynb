{
 "cells": [
  {
   "cell_type": "code",
   "execution_count": 20,
   "metadata": {},
   "outputs": [
    {
     "name": "stdout",
     "output_type": "stream",
     "text": [
      "hello world\n"
     ]
    }
   ],
   "source": [
    "#include <stdio.h>\n",
    "\n",
    "int main() {\n",
    "  printf(\"hello world\\n\");\n",
    "  return 0;\n",
    "}"
   ]
  },
  {
   "cell_type": "code",
   "execution_count": 1,
   "metadata": {},
   "outputs": [
    {
     "name": "stdout",
     "output_type": "stream",
     "text": [
      "The framebuffer device was opened successfully.\n",
      "Error reading fixed information.\n"
     ]
    },
    {
     "name": "stderr",
     "output_type": "stream",
     "text": [
      "[C kernel] Executable exited with code 2"
     ]
    }
   ],
   "source": [
    "#include <linux/fb.h>\n",
    "#include <stdio.h>\n",
    "#include <sys/types.h>\n",
    "#include <sys/stat.h>\n",
    "#include <fcntl.h>\n",
    " #include<stdlib.h>\n",
    " #include <sys/ioctl.h> \n",
    "#include <sys/mman.h>\n",
    "\n",
    "int main () {\n",
    "    int fbfd = 0;\n",
    "    struct fb_var_screeninfo vinfo;\n",
    "    struct fb_fix_screeninfo finfo;\n",
    "    long int screensize = 0;\n",
    "    char *fbp = 0;\n",
    "    long int location = 0;\n",
    "    // Open the file for reading and writing\n",
    "\n",
    "   fbfd = open(\"/dev/graphics/fb0\", O_RDWR);\n",
    "   \n",
    "   if (!fbfd) {\n",
    "        printf(\"Error: cannot open framebuffer device.\\n\");\n",
    "        exit(1);\n",
    "    }\n",
    "    printf(\"The framebuffer device was opened successfully.\\n\");\n",
    "    // Get fixed screen information\n",
    "    if (ioctl(fbfd, FBIOGET_FSCREENINFO, &finfo)) {\n",
    "        printf(\"Error reading fixed information.\\n\");\n",
    "        exit(2);\n",
    "    }\n",
    "    // Get variable screen information\n",
    "    if (ioctl(fbfd, FBIOGET_VSCREENINFO, &vinfo)) {\n",
    "        printf(\"Error reading variable information.\\n\");\n",
    "        exit(3);\n",
    "    }\n",
    "    screensize =  finfo.smem_len;\n",
    "    // screensize = vinfo.xres * vinfo.yres * vinfo.bits_per_pixel >> 3  // >>3 表示算出字节数\n",
    "    fbp = (char *)mmap(0, screensize, PROT_READ | PROT_WRITE, MAP_SHARED,fbfd, 0);\n",
    "\n",
    "    //if ((int) fbp == -1) {\n",
    "    //    printf(\"Error: failed to map framebuffer device to memory.\\n\");\n",
    "     \n",
    "   return 0;\n",
    "}"
   ]
  },
  {
   "cell_type": "code",
   "execution_count": 19,
   "metadata": {},
   "outputs": [
    {
     "name": "stderr",
     "output_type": "stream",
     "text": [
      "/tmp/tmpvoic8mbw.c: In function ‘main’:\n",
      "/tmp/tmpvoic8mbw.c:14:5: warning: implicit declaration of function ‘r_exec_method’ [-Wimplicit-function-declaration]\n",
      "     r_exec_method(ptrc);\n",
      "     ^~~~~~~~~~~~~\n",
      "/tmp/tmpvoic8mbw.c: At top level:\n",
      "/tmp/tmpvoic8mbw.c:19:6: warning: conflicting types for ‘r_exec_method’\n",
      " void r_exec_method(int (*ptrc)(int, int)){\n",
      "      ^~~~~~~~~~~~~\n",
      "/tmp/tmpvoic8mbw.c:14:5: note: previous implicit declaration of ‘r_exec_method’ was here\n",
      "     r_exec_method(ptrc);\n",
      "     ^~~~~~~~~~~~~\n"
     ]
    },
    {
     "name": "stdout",
     "output_type": "stream",
     "text": [
      "max=2\n",
      "exec_method max=3\n"
     ]
    },
    {
     "name": "stderr",
     "output_type": "stream",
     "text": [
      "[C kernel] Executable exited with code 18"
     ]
    }
   ],
   "source": [
    "#include <math.h>\n",
    "#include <stdio.h>\n",
    "int max(int x,int y)\n",
    "{ \n",
    "     return (x > y ? x : y);\n",
    "}\n",
    "void main(){\n",
    " int a = 1;\n",
    " int b = 2;\n",
    " int(*ptrc)(int, int);\n",
    " ptrc = max;\n",
    " printf(\"max=%d\\n\", ptrc(a, b));\n",
    "    r_exec_method(ptrc);\n",
    "    return;\n",
    "    \n",
    "}\n",
    "\n",
    "void r_exec_method(int (*ptrc)(int, int)){\n",
    "    printf(\"exec_method max=%d\\n\", ptrc(3, 2));\n",
    "}\n",
    " "
   ]
  }
 ],
 "metadata": {
  "kernelspec": {
   "display_name": "C",
   "language": "c",
   "name": "c"
  },
  "language_info": {
   "file_extension": ".c",
   "mimetype": "text/plain",
   "name": "c"
  }
 },
 "nbformat": 4,
 "nbformat_minor": 4
}
