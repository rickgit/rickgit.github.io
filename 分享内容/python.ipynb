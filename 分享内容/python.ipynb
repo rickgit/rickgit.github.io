{
 "cells": [
  {
   "cell_type": "code",
   "execution_count": 29,
   "metadata": {},
   "outputs": [
    {
     "data": {
      "text/plain": [
       "bytes"
      ]
     },
     "execution_count": 29,
     "metadata": {},
     "output_type": "execute_result"
    }
   ],
   "source": [
    "1+1\n",
    "# https://diveintopython3.problemsolving.io/\n",
    "## Native Datatypes\n",
    "type(b'1')\n",
    "type(1)\n",
    "type(1.0000000000000000000000000000000000000000000000000000000001)\n",
    "type(1>3)\n",
    "\n",
    "type((2,32,3))#tuple\n",
    "\n",
    "type([12,3,3])#list\n",
    "type(set([2,3,3]))#set\n",
    "# type({2,3,3})#set\n",
    "type({'k':'v'})#dict\n",
    "\n",
    "type(None)#NoneType"
   ]
  },
  {
   "cell_type": "code",
   "execution_count": 10,
   "metadata": {},
   "outputs": [
    {
     "ename": "SyntaxError",
     "evalue": "invalid character in identifier (<ipython-input-10-e05968e9bad7>, line 29)",
     "output_type": "error",
     "traceback": [
      "\u001b[0;36m  File \u001b[0;32m\"<ipython-input-10-e05968e9bad7>\"\u001b[0;36m, line \u001b[0;32m29\u001b[0m\n\u001b[0;31m    print(time_now)//2020年6月20日23点08分，十进制为 1592665562,10位；Java 13位；\u001b[0m\n\u001b[0m                                         ^\u001b[0m\n\u001b[0;31mSyntaxError\u001b[0m\u001b[0;31m:\u001b[0m invalid character in identifier\n"
     ]
    }
   ],
   "source": [
    "# https://diveintopython3.problemsolving.io/\n",
    "## Comprehensions :import os sys random math datetime\n",
    "\n",
    "\n",
    "## String\n",
    "len(\"你好\")  \n",
    "'My alphabet starts where your alphabet ends.'[0:-1]\n",
    "\n",
    "## os\n",
    "import os\n",
    "with open( 'python.ipynb', 'r' ) as f:# 自动帮我们close file\n",
    "    print(f.readline())\n",
    "#     for line in f.readlines():\n",
    "#         print( line.strip() )  \n",
    "## RE\n",
    "'100 NORTH MAIN ROAD'.replace('ROAD', 'RD.')   \n",
    "import re        \n",
    "re.sub('ROAD$', 'RD.', '100 NORTH BROAD ROAD')\n",
    "\n",
    "import math\n",
    "math.pi\n",
    "\n",
    "import datetime\n",
    "print( datetime.date.today())\n",
    "import time\n",
    "\n",
    "#获取当前时间\n",
    "time_now = int(time.time())\n",
    "print(time_now)//2020年6月20日23点08分，十进制为 1592665562,10位；Java 13位；\n",
    "\n"
   ]
  },
  {
   "cell_type": "code",
   "execution_count": 38,
   "metadata": {},
   "outputs": [
    {
     "data": {
      "text/plain": [
       "'UTF-8'"
      ]
     },
     "execution_count": 38,
     "metadata": {},
     "output_type": "execute_result"
    }
   ],
   "source": [
    "## file\n",
    "open('python.ipynb').name\n",
    "open('python.ipynb').encoding                                          "
   ]
  },
  {
   "cell_type": "code",
   "execution_count": 51,
   "metadata": {},
   "outputs": [
    {
     "name": "stdout",
     "output_type": "stream",
     "text": [
      "138574484\n"
     ]
    }
   ],
   "source": [
    "## network\n",
    "\n",
    "import urllib.request\n",
    "data = urllib.request.urlopen('http://192.168.99.100:9999/notebooks/python.ipynb').read()\n",
    "type(data) \n",
    "# print(data)\n",
    "import requests# 可以构造 get或post\n",
    "url=\"http://dldir1.qq.com/weixin/android/weixin7015android1680.apk\"\n",
    "r=requests.get(url)\n",
    "print(len(r.content))\n",
    "path=\"weixin7015android1680.apk\"\n",
    "with open(path,\"wb\") as f:\n",
    "    f.write(r.content)\n",
    "f.close()\n",
    "\n",
    "\n"
   ]
  },
  {
   "cell_type": "code",
   "execution_count": 2,
   "metadata": {},
   "outputs": [
    {
     "name": "stdout",
     "output_type": "stream",
     "text": [
      "你好\n"
     ]
    }
   ],
   "source": [
    "print('你好')"
   ]
  },
  {
   "cell_type": "code",
   "execution_count": 17,
   "metadata": {},
   "outputs": [
    {
     "name": "stdout",
     "output_type": "stream",
     "text": [
      "1.2.59\n",
      "             open   high  close    low     volume  price_change  p_change  \\\n",
      "date                                                                        \n",
      "2020-06-05  20.80  21.40  21.18  20.73   86801.91          0.34      1.63   \n",
      "2020-06-04  20.88  21.00  20.84  20.75   33961.96         -0.03     -0.14   \n",
      "2020-06-03  21.22  21.22  20.87  20.77   75904.36         -0.29     -1.37   \n",
      "2020-06-02  20.70  21.44  21.16  20.70  132827.73          0.53      2.57   \n",
      "2020-06-01  20.31  20.78  20.63  20.26   62224.56          0.35      1.73   \n",
      "...           ...    ...    ...    ...        ...           ...       ...   \n",
      "2017-12-12  22.61  24.14  23.98  22.61  125206.36          1.21      5.31   \n",
      "2017-12-11  22.61  22.94  22.75  22.50   41287.00          0.14      0.62   \n",
      "2017-12-08  22.40  22.90  22.61  22.04   53722.08          0.35      1.57   \n",
      "2017-12-07  21.98  22.48  22.26  21.92   48619.64          0.22      1.00   \n",
      "2017-12-06  21.66  22.10  22.06  21.51   52664.77          0.36      1.66   \n",
      "\n",
      "               ma5    ma10    ma20     v_ma5    v_ma10    v_ma20  \n",
      "date                                                              \n",
      "2020-06-05  20.936  20.617  20.565  78344.10  64160.14  62191.24  \n",
      "2020-06-04  20.756  20.579  20.535  69134.43  62704.50  60856.57  \n",
      "2020-06-03  20.616  20.614  20.519  72399.21  72923.50  63459.12  \n",
      "2020-06-02  20.556  20.585  20.483  69521.54  69910.38  63584.86  \n",
      "2020-06-01  20.382  20.527  20.410  51457.98  61230.19  59862.10  \n",
      "...            ...     ...     ...       ...       ...       ...  \n",
      "2017-12-12  22.732  22.732  22.732  64299.97  64299.97  64299.97  \n",
      "2017-12-11  22.420  22.420  22.420  49073.37  49073.37  49073.37  \n",
      "2017-12-08  22.310  22.310  22.310  51668.83  51668.83  51668.83  \n",
      "2017-12-07  22.160  22.160  22.160  50642.21  50642.21  50642.21  \n",
      "2017-12-06  22.060  22.060  22.060  52664.77  52664.77  52664.77  \n",
      "\n",
      "[530 rows x 13 columns]\n"
     ]
    }
   ],
   "source": [
    "# pip install tushare\n",
    "# pip install pandas\n",
    "# pip install matplotlib\n",
    "import tushare\n",
    "import matplotlib.pyplot as plt\n",
    "\n",
    "\n",
    "print(tushare.__version__)\n",
    "\n",
    "import tushare as ts\n",
    "\n",
    "hist=ts.get_hist_data('600848') #一次性获取全部日k线数据\n",
    "hist[['close','volume']].plot(kind='line',grid=True)\n",
    "\n",
    "plt.show()\n",
    "print(hist)"
   ]
  },
  {
   "cell_type": "code",
   "execution_count": 10,
   "metadata": {},
   "outputs": [
    {
     "name": "stdout",
     "output_type": "stream",
     "text": [
      "Requirement already satisfied: matplotlib in /opt/conda/lib/python3.7/site-packages (3.1.3)\n",
      "Requirement already satisfied: pyparsing!=2.0.4,!=2.1.2,!=2.1.6,>=2.0.1 in /opt/conda/lib/python3.7/site-packages (from matplotlib) (2.4.6)\n",
      "Requirement already satisfied: python-dateutil>=2.1 in /opt/conda/lib/python3.7/site-packages (from matplotlib) (2.8.1)\n",
      "Requirement already satisfied: kiwisolver>=1.0.1 in /opt/conda/lib/python3.7/site-packages (from matplotlib) (1.1.0)\n",
      "Requirement already satisfied: cycler>=0.10 in /opt/conda/lib/python3.7/site-packages (from matplotlib) (0.10.0)\n",
      "Requirement already satisfied: numpy>=1.11 in /opt/conda/lib/python3.7/site-packages (from matplotlib) (1.18.1)\n",
      "Requirement already satisfied: six>=1.5 in /opt/conda/lib/python3.7/site-packages (from python-dateutil>=2.1->matplotlib) (1.14.0)\n",
      "Requirement already satisfied: setuptools in /opt/conda/lib/python3.7/site-packages (from kiwisolver>=1.0.1->matplotlib) (45.2.0.post20200210)\n",
      "Note: you may need to restart the kernel to use updated packages.\n"
     ]
    }
   ],
   "source": [
    "pip install matplotlib"
   ]
  },
  {
   "cell_type": "code",
   "execution_count": 42,
   "metadata": {},
   "outputs": [
    {
     "name": "stderr",
     "output_type": "stream",
     "text": [
      "No handles with labels found to put in legend.\n"
     ]
    },
    {
     "data": {
      "image/png": "[encoded data removed]",
      "text/plain": [
       "<Figure size 1728x576 with 1 Axes>"
      ]
     },
     "metadata": {
      "needs_background": "light"
     },
     "output_type": "display_data"
    }
   ],
   "source": [
    "# import talib\n",
    "import numpy as np\n",
    "import tushare as ts\n",
    "import matplotlib.pyplot as plt\n",
    "import mpl_finance as mpf\n",
    "\n",
    "data = ts.get_k_data('000001', index=True, start='2017-01-01', end='2017-06-31')\n",
    "# sma_10 = talib.SMA(np.array(data['close']), 10)\n",
    "# sma_30 = talib.SMA(np.array(data['close']), 30)\n",
    "\n",
    "fig = plt.figure(figsize=(24, 8))\n",
    "ax = fig.add_subplot(1, 1, 1)\n",
    "ax.set_xticks(range(0, len(data['date']), 10))\n",
    "ax.set_xticklabels(data['date'][::10])\n",
    "# ax.plot(sma_10, label='10 日均线')\n",
    "# ax.plot(sma_30, label='30 日均线')\n",
    "ax.legend(loc='upper left')\n",
    "\n",
    "mpf.candlestick2_ochl(ax, data['open'], data['close'], data['high'], data['low'],\n",
    "                     width=0.5, colorup='r', colordown='green',\n",
    "                     alpha=0.6)\n",
    "plt.grid()\n",
    "\n"
   ]
  },
  {
   "cell_type": "code",
   "execution_count": 61,
   "metadata": {},
   "outputs": [
    {
     "name": "stdout",
     "output_type": "stream",
     "text": [
      "<class 'pandas.core.frame.DataFrame'>\n",
      "Int64Index: 117 entries, 217 to 333\n",
      "Data columns (total 7 columns):\n",
      " #   Column  Non-Null Count  Dtype  \n",
      "---  ------  --------------  -----  \n",
      " 0   date    117 non-null    object \n",
      " 1   open    117 non-null    float64\n",
      " 2   close   117 non-null    float64\n",
      " 3   high    117 non-null    float64\n",
      " 4   low     117 non-null    float64\n",
      " 5   volume  117 non-null    float64\n",
      " 6   code    117 non-null    object \n",
      "dtypes: float64(5), object(2)\n",
      "memory usage: 7.3+ KB\n"
     ]
    },
    {
     "data": {
      "image/png": "[encoded data removed]",
      "text/plain": [
       "<Figure size 1080x576 with 2 Axes>"
      ]
     },
     "metadata": {
      "needs_background": "light"
     },
     "output_type": "display_data"
    },
    {
     "name": "stdout",
     "output_type": "stream",
     "text": [
      "wancheng\n"
     ]
    }
   ],
   "source": [
    "import matplotlib as mpl\n",
    "import tushare as ts\n",
    "import matplotlib.pyplot as plt\n",
    "import mpl_finance as mpf\n",
    "from pylab import mpl\n",
    "mpl.rcParams['font.sans-serif'] = ['fangsong'] # 指定默认字体\n",
    "mpl.rcParams['axes.unicode_minus'] = False # 解决保存图像是负号'-'显示为方块的问题\n",
    "\n",
    "wdyx = ts.get_k_data('600116','2019-12-09')#选取股票\n",
    "# wdyx = ts.get_k_data('600516','2017-12-09')#选取股票\n",
    "\n",
    "wdyx.info()\n",
    "wdyx[:3]\n",
    "from matplotlib.pylab import date2num\n",
    "import datetime\n",
    "def date_to_num(dates):\n",
    "    num_time = []\n",
    "    for date in dates:\n",
    "        date_time = datetime.datetime.strptime(date,'%Y-%m-%d')\n",
    "        num_date = date2num(date_time)\n",
    "        num_time.append(num_date)\n",
    "    return num_time\n",
    "# dataframe转换为二维数组\n",
    "\n",
    "mat_wdyx = wdyx.values\n",
    "\n",
    "num_time = date_to_num(mat_wdyx[:,0])\n",
    "mat_wdyx[:,0] = num_time\n",
    "\n",
    "\n",
    "'''\n",
    "# 日期, 开盘, 收盘, 最高, 最低, 成交量, 代码\n",
    "\n",
    "\n",
    "\n",
    "fig, ax = plt.subplots(figsize=(15,5))\n",
    "fig.subplots_adjust(bottom=0.5)\n",
    "mpf.candlestick_ochl(ax, mat_wdyx, width=0.6, colorup='g', colordown='r', alpha=1.0)\n",
    "plt.grid(True)\n",
    "# 设置日期刻度旋转的角度\n",
    "plt.xticks(rotation=30)\n",
    "plt.title('drink wine?')\n",
    "plt.xlabel('Date')\n",
    "plt.ylabel('Price')\n",
    "# x轴的刻度为日期\n",
    "ax.xaxis_date ()\n",
    "\n",
    "'''\n",
    "fig, (ax1, ax2) = plt.subplots(2, sharex=True, figsize=(15,8))\n",
    "\n",
    "mpf.candlestick_ochl(ax1, mat_wdyx, width=0.6, colorup = 'r', colordown = 'g')\n",
    "ax1.set_title('上证指数 ')\n",
    "ax1.set_ylabel('价格')\n",
    "ax1.grid(True)\n",
    "ax1.xaxis_date()\n",
    "plt.bar(mat_wdyx[:,0], mat_wdyx[:,5], width= 0.6)\n",
    "ax2.set_ylabel('成交量')\n",
    "ax2.grid(True)\n",
    "\n",
    "plt.show()\n",
    "print('wancheng')\n"
   ]
  },
  {
   "cell_type": "code",
   "execution_count": 84,
   "metadata": {},
   "outputs": [
    {
     "name": "stdout",
     "output_type": "stream",
     "text": [
      "编号：000581，股票：威孚高科，开盘价：23.0，当前：23.87，今日最高：24.08，今日最低：22.76\n",
      "↑↑↑↑↑↑↑赶紧卖出。大赚了！\n",
      "\n",
      "编号：600106，股票：重庆路桥，开盘价：2.89，当前：2.89，今日最高：2.9，今日最低：2.86\n",
      "↓↓↓↓↓↓↓价格超低，赶紧买入！\n",
      "\n",
      "编号：000591，股票：太阳能，开盘价：3.3，当前：3.3，今日最高：3.31，今日最低：3.28\n",
      "↓↓↓↓↓↓↓价格超低，赶紧买入！\n",
      "\n"
     ]
    },
    {
     "ename": "KeyboardInterrupt",
     "evalue": "",
     "output_type": "error",
     "traceback": [
      "\u001b[0;31m\u001b[0m",
      "\u001b[0;31mKeyboardInterrupt\u001b[0mTraceback (most recent call last)",
      "\u001b[0;32m<ipython-input-84-e744b14076c9>\u001b[0m in \u001b[0;36m<module>\u001b[0;34m\u001b[0m\n\u001b[1;32m     43\u001b[0m     \u001b[0msharelist\u001b[0m \u001b[0;34m=\u001b[0m \u001b[0;34m[\u001b[0m\u001b[0mshare1\u001b[0m\u001b[0;34m,\u001b[0m\u001b[0mshare2\u001b[0m\u001b[0;34m,\u001b[0m\u001b[0mshare3\u001b[0m\u001b[0;34m]\u001b[0m\u001b[0;34m\u001b[0m\u001b[0;34m\u001b[0m\u001b[0m\n\u001b[1;32m     44\u001b[0m     \u001b[0mmain\u001b[0m\u001b[0;34m(\u001b[0m\u001b[0msharelist\u001b[0m\u001b[0;34m)\u001b[0m\u001b[0;34m\u001b[0m\u001b[0;34m\u001b[0m\u001b[0m\n\u001b[0;32m---> 45\u001b[0;31m     \u001b[0mtime\u001b[0m\u001b[0;34m.\u001b[0m\u001b[0msleep\u001b[0m\u001b[0;34m(\u001b[0m\u001b[0;36m5\u001b[0m\u001b[0;34m)\u001b[0m\u001b[0;34m\u001b[0m\u001b[0;34m\u001b[0m\u001b[0m\n\u001b[0m\u001b[1;32m     46\u001b[0m     \u001b[0mclear_output\u001b[0m\u001b[0;34m(\u001b[0m\u001b[0;34m)\u001b[0m\u001b[0;34m\u001b[0m\u001b[0;34m\u001b[0m\u001b[0m\n",
      "\u001b[0;31mKeyboardInterrupt\u001b[0m: "
     ]
    }
   ],
   "source": [
    "import tushare,time\n",
    "from IPython.display import clear_output\n",
    "\n",
    "def getrealtimedata(share):\n",
    "    data = tushare.get_realtime_quotes(share.code)\n",
    "    share.name = data.loc[0][0]\n",
    "    share.open = float(data.loc[0][1])\n",
    "    share.price = float(data.loc[0][3])\n",
    "    share.high = float(data.loc[0][4])\n",
    "    share.low = float(data.loc[0][5])\n",
    "    share.describe='编号：{}，股票：{}，开盘价：{}，当前：{}，今日最高：{}，今日最低：{}'.format(share.code,share.name,share.open,share.price,share.high,share.low)\n",
    "    return share\n",
    "\n",
    "class Share():\n",
    "    def __init__(self,code,buy,sale):\n",
    "        self.name = ''\n",
    "        self.open = ''\n",
    "        self.price = ''\n",
    "        self.high = ''\n",
    "        self.low = ''\n",
    "        self.describe=''\n",
    "        self.code = code\n",
    "        self.buy = buy\n",
    "        self.sale = sale\n",
    "\n",
    "def main(sharelist):\n",
    "    # share = Share(code)\n",
    "    for share in sharelist:\n",
    "        sss=getrealtimedata(share)\n",
    "        print(sss.describe)\n",
    "\n",
    "        if sss.price <=sss.buy:\n",
    "            print('↓↓↓↓↓↓↓价格超低，赶紧买入！\\n')\n",
    "        elif sss.price >= sss.sale:\n",
    "            print('↑↑↑↑↑↑↑赶紧卖出。大赚了！\\n')\n",
    "        else:\n",
    "            print('静观其变……\\n')\n",
    "\n",
    "while True:\n",
    "    share1=Share(\"000581\",18.7,19.0)\n",
    "    share2=Share(\"600106\",18.7,19.0)\n",
    "    share3=Share(\"000591\",18.7,19.0)\n",
    "    sharelist = [share1,share2,share3]\n",
    "    main(sharelist)\n",
    "    time.sleep(5)\n",
    "    clear_output()"
   ]
  },
  {
   "cell_type": "code",
   "execution_count": 89,
   "metadata": {},
   "outputs": [
    {
     "name": "stdout",
     "output_type": "stream",
     "text": [
      "             open   high  close    low     volume  price_change  p_change  \\\n",
      "date                                                                        \n",
      "2020-06-05  23.00  24.08  23.87  22.76  642700.25          1.46      6.51   \n",
      "2020-06-04  20.70  22.41  22.41  20.50  231806.56          2.04     10.02   \n",
      "2020-06-03  20.34  20.65  20.37  20.13   93378.89          0.25      1.24   \n",
      "2020-06-02  19.97  20.32  20.12  19.70  144046.59          0.14      0.70   \n",
      "2020-06-01  19.91  20.31  19.98  19.81  195816.92          0.31      1.58   \n",
      "...           ...    ...    ...    ...        ...           ...       ...   \n",
      "2017-12-12  24.21  24.21  23.63  23.60  113794.44         -0.57     -2.35   \n",
      "2017-12-11  23.97  24.23  24.20  23.87  114332.23          0.35      1.47   \n",
      "2017-12-08  23.72  24.10  23.85  23.65   92578.24          0.35      1.49   \n",
      "2017-12-07  24.06  24.17  23.50  23.50   82999.90         -0.58     -2.41   \n",
      "2017-12-06  24.10  24.25  24.08  23.44  180960.64         -0.02     -0.08   \n",
      "\n",
      "               ma5    ma10    ma20      v_ma5     v_ma10     v_ma20  \n",
      "date                                                                 \n",
      "2020-06-05  21.350  20.636  20.840  261549.84  167229.80  117227.29  \n",
      "2020-06-04  20.510  20.269  20.699  150443.34  113345.95   87900.41  \n",
      "2020-06-03  20.006  20.168  20.633  116771.65   95877.67   79991.65  \n",
      "2020-06-02  19.912  20.243  20.671  113997.94   91683.38   82443.40  \n",
      "2020-06-01  19.898  20.368  20.675   96889.77   83888.52   81263.04  \n",
      "...            ...     ...     ...        ...        ...        ...  \n",
      "2017-12-12  23.852  23.852  23.852  116933.09  116933.09  116933.09  \n",
      "2017-12-11  23.908  23.908  23.908  117717.75  117717.75  117717.75  \n",
      "2017-12-08  23.810  23.810  23.810  118846.26  118846.26  118846.26  \n",
      "2017-12-07  23.790  23.790  23.790  131980.27  131980.27  131980.27  \n",
      "2017-12-06  24.080  24.080  24.080  180960.64  180960.64  180960.64  \n",
      "\n",
      "[607 rows x 13 columns]\n",
      "            open  high  close   low    volume  price_change  p_change    ma5  \\\n",
      "date                                                                           \n",
      "2020-06-05  2.89  2.90   2.89  2.86  77920.07         -0.01     -0.34  2.892   \n",
      "2020-06-04  2.90  2.90   2.90  2.88  51494.50          0.01      0.35  2.880   \n",
      "2020-06-03  2.90  2.92   2.89  2.89  83789.85         -0.02     -0.69  2.866   \n",
      "2020-06-02  2.87  2.92   2.91  2.85  93844.12          0.04      1.39  2.854   \n",
      "2020-06-01  2.88  2.88   2.87  2.84  91973.18          0.04      1.41  2.834   \n",
      "...          ...   ...    ...   ...       ...           ...       ...    ...   \n",
      "2017-12-12  4.46  4.47   4.41  4.40  21452.30         -0.06     -1.34  4.430   \n",
      "2017-12-11  4.46  4.47   4.46  4.42  27741.52          0.00      0.00  4.435   \n",
      "2017-12-08  4.42  4.48   4.46  4.41  28883.01          0.05      1.13  4.427   \n",
      "2017-12-07  4.42  4.45   4.40  4.39  27580.53         -0.02     -0.45  4.410   \n",
      "2017-12-06  4.40  4.42   4.42  4.34  38511.78          0.04      0.91  4.420   \n",
      "\n",
      "             ma10   ma20     v_ma5    v_ma10    v_ma20  \n",
      "date                                                    \n",
      "2020-06-05  2.856  2.838  79804.34  61500.23  77413.87  \n",
      "2020-06-04  2.849  2.835  72536.73  60337.26  75437.95  \n",
      "2020-06-03  2.843  2.831  71286.79  64805.34  75564.09  \n",
      "2020-06-02  2.838  2.829  63721.07  66823.03  75427.99  \n",
      "2020-06-01  2.831  2.825  53140.14  71119.00  73885.55  \n",
      "...           ...    ...       ...       ...       ...  \n",
      "2017-12-12  4.430  4.430  28833.83  28833.83  28833.83  \n",
      "2017-12-11  4.435  4.435  30679.21  30679.21  30679.21  \n",
      "2017-12-08  4.427  4.427  31658.44  31658.44  31658.44  \n",
      "2017-12-07  4.410  4.410  33046.16  33046.16  33046.16  \n",
      "2017-12-06  4.420  4.420  38511.78  38511.78  38511.78  \n",
      "\n",
      "[607 rows x 13 columns]\n",
      "            open  high  close   low     volume  price_change  p_change    ma5  \\\n",
      "date                                                                            \n",
      "2020-06-05  3.30  3.31   3.30  3.28  126976.54          0.00      0.00  3.294   \n",
      "2020-06-04  3.30  3.31   3.30  3.28  142527.45          0.02      0.61  3.272   \n",
      "2020-06-03  3.32  3.33   3.28  3.28  205885.12         -0.03     -0.91  3.268   \n",
      "2020-06-02  3.28  3.32   3.31  3.27  191338.36          0.03      0.92  3.268   \n",
      "2020-06-01  3.19  3.29   3.28  3.18  298750.69          0.09      2.82  3.266   \n",
      "...          ...   ...    ...   ...        ...           ...       ...    ...   \n",
      "2017-12-12  5.95  6.05   5.88  5.88  167180.58         -0.07     -1.18  5.840   \n",
      "2017-12-11  5.82  6.00   5.95  5.78  156904.88          0.14      2.41  5.830   \n",
      "2017-12-08  5.76  5.84   5.81  5.73  106319.67          0.06      1.04  5.790   \n",
      "2017-12-07  5.79  5.81   5.75  5.71  116704.64         -0.06     -1.03  5.780   \n",
      "2017-12-06  5.87  5.93   5.81  5.60  236366.77         -0.08     -1.36  5.810   \n",
      "\n",
      "             ma10   ma20      v_ma5     v_ma10     v_ma20  \n",
      "date                                                       \n",
      "2020-06-05  3.278  3.339  193095.63  187256.99  229519.53  \n",
      "2020-06-04  3.275  3.343  236478.84  194203.00  231092.32  \n",
      "2020-06-03  3.278  3.345  234577.98  206967.40  231657.01  \n",
      "2020-06-02  3.288  3.350  223254.26  203115.67  234300.42  \n",
      "2020-06-01  3.299  3.351  212846.66  213548.04  237557.60  \n",
      "...           ...    ...        ...        ...        ...  \n",
      "2017-12-12  5.840  5.840  156695.31  156695.31  156695.31  \n",
      "2017-12-11  5.830  5.830  154073.99  154073.99  154073.99  \n",
      "2017-12-08  5.790  5.790  153130.36  153130.36  153130.36  \n",
      "2017-12-07  5.780  5.780  176535.71  176535.71  176535.71  \n",
      "2017-12-06  5.810  5.810  236366.77  236366.77  236366.77  \n",
      "\n",
      "[607 rows x 13 columns]\n"
     ]
    },
    {
     "ename": "KeyboardInterrupt",
     "evalue": "",
     "output_type": "error",
     "traceback": [
      "\u001b[0;31m\u001b[0m",
      "\u001b[0;31mKeyboardInterrupt\u001b[0mTraceback (most recent call last)",
      "\u001b[0;32m<ipython-input-89-ceb8dbedc959>\u001b[0m in \u001b[0;36m<module>\u001b[0;34m\u001b[0m\n\u001b[1;32m     44\u001b[0m     \u001b[0msharelist\u001b[0m \u001b[0;34m=\u001b[0m \u001b[0;34m[\u001b[0m\u001b[0mshare1\u001b[0m\u001b[0;34m,\u001b[0m\u001b[0mshare2\u001b[0m\u001b[0;34m,\u001b[0m\u001b[0mshare3\u001b[0m\u001b[0;34m]\u001b[0m\u001b[0;34m\u001b[0m\u001b[0;34m\u001b[0m\u001b[0m\n\u001b[1;32m     45\u001b[0m     \u001b[0mmain\u001b[0m\u001b[0;34m(\u001b[0m\u001b[0msharelist\u001b[0m\u001b[0;34m)\u001b[0m\u001b[0;34m\u001b[0m\u001b[0;34m\u001b[0m\u001b[0m\n\u001b[0;32m---> 46\u001b[0;31m     \u001b[0mtime\u001b[0m\u001b[0;34m.\u001b[0m\u001b[0msleep\u001b[0m\u001b[0;34m(\u001b[0m\u001b[0;36m5\u001b[0m\u001b[0;34m)\u001b[0m\u001b[0;34m\u001b[0m\u001b[0;34m\u001b[0m\u001b[0m\n\u001b[0m\u001b[1;32m     47\u001b[0m     \u001b[0mclear_output\u001b[0m\u001b[0;34m(\u001b[0m\u001b[0;34m)\u001b[0m\u001b[0;34m\u001b[0m\u001b[0;34m\u001b[0m\u001b[0m\n",
      "\u001b[0;31mKeyboardInterrupt\u001b[0m: "
     ]
    }
   ],
   "source": [
    "import tushare,time\n",
    "from IPython.display import clear_output\n",
    "\n",
    "def getrealtimedata(share):\n",
    "    data = tushare.get_realtime_quotes(share.code)\n",
    "    share.name = data.loc[0][0]\n",
    "    share.open = float(data.loc[0][1])\n",
    "    share.price = float(data.loc[0][3])\n",
    "    share.high = float(data.loc[0][4])\n",
    "    share.low = float(data.loc[0][5])\n",
    "    share.describe='编号：{}，股票：{}，开盘价：{}，当前：{}，今日最高：{}，今日最低：{}'.format(share.code,share.name,share.open,share.price,share.high,share.low)\n",
    "    return share\n",
    "\n",
    "class Share():\n",
    "    def __init__(self,code,buy,sale):\n",
    "        self.name = ''\n",
    "        self.open = ''\n",
    "        self.price = ''\n",
    "        self.high = ''\n",
    "        self.low = ''\n",
    "        self.describe=''\n",
    "        self.code = code\n",
    "        self.buy = buy\n",
    "        self.sale = sale\n",
    "\n",
    "def main(sharelist):\n",
    "    # share = Share(code)\n",
    "    for share in sharelist:\n",
    "        print(tushare.get_hist_data(share.code))\n",
    "#         sss=getrealtimedata(share)\n",
    "#         print(sss.describe)\n",
    "\n",
    "#         if sss.price <=sss.buy:\n",
    "#             print('↓↓↓↓↓↓↓价格超低，赶紧买入！\\n')\n",
    "#         elif sss.price >= sss.sale:\n",
    "#             print('↑↑↑↑↑↑↑赶紧卖出。大赚了！\\n')\n",
    "#         else:\n",
    "#             print('静观其变……\\n')\n",
    "\n",
    "while True:\n",
    "    share1=Share(\"000581\",18.7,19.0)\n",
    "    share2=Share(\"600106\",18.7,19.0)\n",
    "    share3=Share(\"000591\",18.7,19.0)\n",
    "    sharelist = [share1,share2,share3]\n",
    "    main(sharelist)\n",
    "    time.sleep(5)\n",
    "    clear_output()"
   ]
  },
  {
   "cell_type": "code",
   "execution_count": 96,
   "metadata": {},
   "outputs": [
    {
     "data": {
      "text/plain": [
       "numpy.ndarray"
      ]
     },
     "execution_count": 96,
     "metadata": {},
     "output_type": "execute_result"
    }
   ],
   "source": [
    "import numpy as np\n",
    "np.__version__\n",
    "a=np.array([1,3,34])\n",
    "type(a)"
   ]
  },
  {
   "cell_type": "code",
   "execution_count": 104,
   "metadata": {},
   "outputs": [
    {
     "name": "stdout",
     "output_type": "stream",
     "text": [
      "<class 'pandas.core.series.Series'>\n",
      "<class 'pandas.core.indexes.datetimes.DatetimeIndex'>\n",
      "<class 'pandas.core.frame.DataFrame'>\n"
     ]
    }
   ],
   "source": [
    "import pandas\n",
    "s = pd.Series([1, 3, 5, np.nan, 6, 8])\n",
    "print(type(s))\n",
    "\n",
    "dates = pd.date_range('20130101', periods=6)\n",
    "print(type(dates))\n",
    "df = pd.DataFrame(np.random.randn(6, 4), index=dates, columns=list('ABCD'))\n",
    "print(type(df))\n"
   ]
  },
  {
   "cell_type": "code",
   "execution_count": 107,
   "metadata": {},
   "outputs": [
    {
     "data": {
      "text/plain": [
       "[<matplotlib.lines.Line2D at 0x7fafe8f826d0>]"
      ]
     },
     "execution_count": 107,
     "metadata": {},
     "output_type": "execute_result"
    },
    {
     "data": {
      "image/png": "[encoded data removed]",
      "text/plain": [
       "<Figure size 432x288 with 1 Axes>"
      ]
     },
     "metadata": {
      "needs_background": "light"
     },
     "output_type": "display_data"
    }
   ],
   "source": [
    "import matplotlib.pyplot as plt\n",
    "import numpy as np\n",
    "fig, ax = plt.subplots()  # Create a figure containing a single axes.\n",
    "ax.plot([1, 2, 3, 4], [1, 4, 2, 3])  # Plot some data on the axes."
   ]
  },
  {
   "cell_type": "code",
   "execution_count": 110,
   "metadata": {},
   "outputs": [
    {
     "name": "stderr",
     "output_type": "stream",
     "text": [
      "/opt/conda/lib/python3.7/site-packages/ipykernel_launcher.py:13: MatplotlibDeprecationWarning: Adding an axes using the same arguments as a previous axes currently reuses the earlier instance.  In a future version, a new instance will always be created and returned.  Meanwhile, this warning can be suppressed, and the future behavior ensured, by passing a unique label to each axes instance.\n",
      "  del sys.path[0]\n"
     ]
    },
    {
     "data": {
      "text/plain": [
       "Text(0.5, 1.0, 'Easy as 1, 2, 3')"
      ]
     },
     "execution_count": 110,
     "metadata": {},
     "output_type": "execute_result"
    },
    {
     "data": {
      "image/png": "[encoded data removed]",
      "text/plain": [
       "<Figure size 432x288 with 2 Axes>"
      ]
     },
     "metadata": {
      "needs_background": "light"
     },
     "output_type": "display_data"
    },
    {
     "data": {
      "image/png": "[encoded data removed]",
      "text/plain": [
       "<Figure size 432x288 with 1 Axes>"
      ]
     },
     "metadata": {
      "needs_background": "light"
     },
     "output_type": "display_data"
    }
   ],
   "source": [
    "import matplotlib.pyplot as plt\n",
    "plt.figure(1)                # the first figure\n",
    "plt.subplot(211)             # the first subplot in the first figure\n",
    "plt.plot([1, 2, 3])\n",
    "plt.subplot(212)             # the second subplot in the first figure\n",
    "plt.plot([4, 5, 6])\n",
    "\n",
    "\n",
    "plt.figure(2)                # a second figure\n",
    "plt.plot([4, 5, 6])          # creates a subplot(111) by default\n",
    "\n",
    "plt.figure(1)                # figure 1 current; subplot(212) still current\n",
    "plt.subplot(211)             # make subplot(211) in figure1 current\n",
    "plt.title('Easy as 1, 2, 3') # subplot 211 title"
   ]
  },
  {
   "cell_type": "code",
   "execution_count": 2,
   "metadata": {},
   "outputs": [
    {
     "ename": "ModuleNotFoundError",
     "evalue": "No module named 'seaborn'",
     "output_type": "error",
     "traceback": [
      "\u001b[0;31m---------------------------------------------------------------------------\u001b[0m",
      "\u001b[0;31mModuleNotFoundError\u001b[0m                       Traceback (most recent call last)",
      "\u001b[0;32m<ipython-input-2-e81d7883d061>\u001b[0m in \u001b[0;36m<module>\u001b[0;34m\u001b[0m\n\u001b[0;32m----> 1\u001b[0;31m \u001b[0;32mimport\u001b[0m \u001b[0mseaborn\u001b[0m \u001b[0;32mas\u001b[0m \u001b[0msns\u001b[0m\u001b[0;34m\u001b[0m\u001b[0;34m\u001b[0m\u001b[0m\n\u001b[0m\u001b[1;32m      2\u001b[0m \u001b[0msns\u001b[0m\u001b[0;34m.\u001b[0m\u001b[0mset\u001b[0m\u001b[0;34m(\u001b[0m\u001b[0;34m)\u001b[0m\u001b[0;34m\u001b[0m\u001b[0;34m\u001b[0m\u001b[0m\n\u001b[1;32m      3\u001b[0m \u001b[0mtips\u001b[0m \u001b[0;34m=\u001b[0m \u001b[0msns\u001b[0m\u001b[0;34m.\u001b[0m\u001b[0mload_dataset\u001b[0m\u001b[0;34m(\u001b[0m\u001b[0;34m\"tips\"\u001b[0m\u001b[0;34m)\u001b[0m\u001b[0;34m\u001b[0m\u001b[0;34m\u001b[0m\u001b[0m\n\u001b[1;32m      4\u001b[0m sns.relplot(x=\"total_bill\", y=\"tip\", col=\"time\",\n\u001b[1;32m      5\u001b[0m             \u001b[0mhue\u001b[0m\u001b[0;34m=\u001b[0m\u001b[0;34m\"smoker\"\u001b[0m\u001b[0;34m,\u001b[0m \u001b[0mstyle\u001b[0m\u001b[0;34m=\u001b[0m\u001b[0;34m\"smoker\"\u001b[0m\u001b[0;34m,\u001b[0m \u001b[0msize\u001b[0m\u001b[0;34m=\u001b[0m\u001b[0;34m\"size\"\u001b[0m\u001b[0;34m,\u001b[0m\u001b[0;34m\u001b[0m\u001b[0;34m\u001b[0m\u001b[0m\n",
      "\u001b[0;31mModuleNotFoundError\u001b[0m: No module named 'seaborn'"
     ]
    }
   ],
   "source": [
    "import seaborn as sns\n",
    "sns.set()\n",
    "tips = sns.load_dataset(\"tips\")\n",
    "sns.relplot(x=\"total_bill\", y=\"tip\", col=\"time\",\n",
    "            hue=\"smoker\", style=\"smoker\", size=\"size\",\n",
    "            data=tips);"
   ]
  },
  {
   "cell_type": "code",
   "execution_count": null,
   "metadata": {},
   "outputs": [],
   "source": []
  }
 ],
 "metadata": {
  "kernelspec": {
   "display_name": "Python 3",
   "language": "python",
   "name": "python3"
  },
  "language_info": {
   "codemirror_mode": {
    "name": "ipython",
    "version": 3
   },
   "file_extension": ".py",
   "mimetype": "text/x-python",
   "name": "python",
   "nbconvert_exporter": "python",
   "pygments_lexer": "ipython3",
   "version": "3.7.6"
  }
 },
 "nbformat": 4,
 "nbformat_minor": 4
}
